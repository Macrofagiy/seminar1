{
 "cells": [
  {
   "cell_type": "code",
   "execution_count": 3,
   "metadata": {},
   "outputs": [
    {
     "name": "stdout",
     "output_type": "stream",
     "text": [
      "shhhh\n",
      "shhhh\n",
      "shhhh\n",
      "shhhh\n",
      "shhhh\n",
      "shhhh\n",
      "shhhh\n",
      "shhhh\n",
      "shhhh\n",
      "shhhh\n",
      "shhhh\n",
      "shhhh\n",
      "shhhh\n",
      "shhhh\n",
      "shhhh\n",
      "shhhh\n",
      "mew\n",
      "shhhh\n",
      "shhhh\n",
      "shhhh\n",
      "shhhh\n",
      "shhhh\n",
      "shhhh\n",
      "shhhh\n",
      "shhhh\n",
      "shhhh\n",
      "shhhh\n",
      "shhhh\n",
      "shhhh\n",
      "shhhh\n",
      "shhhh\n",
      "shhhh\n",
      "shhhh\n",
      "shhhh\n",
      "shhhh\n",
      "shhhh\n",
      "shhhh\n",
      "shhhh\n",
      "shhhh\n",
      "shhhh\n",
      "shhhh\n",
      "shhhh\n",
      "shhhh\n",
      "shhhh\n",
      "shhhh\n",
      "shhhh\n",
      "shhhh\n",
      "shhhh\n",
      "shhhh\n",
      "shhhh\n",
      "shhhh\n",
      "shhhh\n",
      "shhhh\n",
      "shhhh\n",
      "shhhh\n",
      "shhhh\n",
      "shhhh\n",
      "shhhh\n",
      "shhhh\n",
      "shhhh\n",
      "shhhh\n",
      "shhhh\n",
      "shhhh\n",
      "shhhh\n",
      "shhhh\n",
      "shhhh\n",
      "shhhh\n",
      "shhhh\n",
      "shhhh\n",
      "shhhh\n",
      "shhhh\n",
      "shhhh\n",
      "shhhh\n",
      "shhhh\n",
      "shhhh\n",
      "shhhh\n",
      "shhhh\n",
      "shhhh\n",
      "shhhh\n",
      "shhhh\n",
      "shhhh\n",
      "shhhh\n",
      "shhhh\n",
      "shhhh\n",
      "shhhh\n",
      "shhhh\n",
      "shhhh\n",
      "shhhh\n",
      "shhhh\n",
      "shhhh\n",
      "shhhh\n",
      "shhhh\n",
      "shhhh\n",
      "shhhh\n",
      "shhhh\n",
      "shhhh\n",
      "shhhh\n",
      "shhhh\n",
      "shhhh\n",
      "shhhh\n"
     ]
    }
   ],
   "source": [
    "import numpy\n",
    "for a in range(100): #рэндже - итератор, объект поразждающий последовательность от нуля до указанного числа с щагом 1 или аргументом\n",
    "\n",
    "    if numpy.random.choice([True, False], p=[0.01, 0.99]):\n",
    "        print (\"mew\")\n",
    "    else:\n",
    "        print(\"shhhh\")\n",
    "        "
   ]
  },
  {
   "cell_type": "code",
   "execution_count": 8,
   "metadata": {},
   "outputs": [],
   "source": [
    "LK = 4 #лапки котика\n",
    "GK =2 #глазки котика\n",
    "IK = ('pushok')\n",
    "LP = 4 #песика\n",
    "GP = 2\n",
    "IP = ('rudolph')\n",
    "def mew():\n",
    "    print('mew')\n",
    "def bark():\n",
    "    print('woof')\n",
    "def yox(i):\n",
    "    if i=='против шерстки':\n",
    "        print('кусь')\n",
    "def xox(y):\n",
    "    if y=='я не нравлюсь':\n",
    "        print('лягнуть')"
   ]
  },
  {
   "cell_type": "code",
   "execution_count": 39,
   "metadata": {
    "scrolled": true
   },
   "outputs": [
    {
     "name": "stdout",
     "output_type": "stream",
     "text": [
      "mew\n",
      "pushok\n"
     ]
    }
   ],
   "source": [
    "\n",
    "\n",
    "\n",
    "class Kotik():\n",
    "\n",
    "    def __init__(self, name): #self - ссылка на объект которому мы передаем\n",
    "        self.eyes = 2\n",
    "        self.lapki = 4\n",
    "        self.name = name\n",
    "    def mew(self):\n",
    "        print('mew')\n",
    " #pushok - self\n",
    "pushok = Kotik(name = 'pushok')\n",
    "A=Kotik (name='pushok')\n",
    "A.mew()\n",
    "print(A.name)"
   ]
  },
  {
   "cell_type": "code",
   "execution_count": 35,
   "metadata": {},
   "outputs": [
    {
     "name": "stdout",
     "output_type": "stream",
     "text": [
      "mew\n"
     ]
    }
   ],
   "source": [
    "class Animal():\n",
    "    eyes=2\n",
    "    lapki=4\n",
    "    def eat (self):\n",
    "        print(self.name)\n",
    "        print('pokushol')\n",
    "    def __init__(self, name):\n",
    "        self.name=name\n",
    "class Kotik (Animal):\n",
    "    def mew(self):\n",
    "        print (\"mew\")\n",
    "    #rudolph = Pesya(\"rudolph\")\n",
    "pushok.mew()\n",
    "        "
   ]
  },
  {
   "cell_type": "code",
   "execution_count": 52,
   "metadata": {},
   "outputs": [],
   "source": [
    "A=open('ololo.txt', \"w\")\n",
    "A.write(\"nya\" + \"\\n\") #write не добавляет перевод строки, для этого \"\\n\", в конце надо закрыть файл!!\n",
    "A.close()\n",
    "#there is n another way to do this:\n",
    "with open(\"ololo.txt\", \"w\") as A:\n",
    "    A.write(\"1350\\n\")\n",
    "#here you don't need to write close via obvious way\n",
    "#A=open(“ololo.txt”, \"r\")\n",
    "#A.read"
   ]
  },
  {
   "cell_type": "code",
   "execution_count": 53,
   "metadata": {},
   "outputs": [],
   "source": [
    "with open(\"ololo.txt\", \"w\") as A:\n",
    "    A.write(\"1350\\n\")\n",
    "    "
   ]
  },
  {
   "cell_type": "code",
   "execution_count": 55,
   "metadata": {},
   "outputs": [
    {
     "data": {
      "text/plain": [
       "<function TextIOWrapper.read(size=-1, /)>"
      ]
     },
     "execution_count": 55,
     "metadata": {},
     "output_type": "execute_result"
    }
   ],
   "source": [
    "A=open('ololo.txt', \"r\")\n",
    "A.read"
   ]
  },
  {
   "cell_type": "code",
   "execution_count": 56,
   "metadata": {},
   "outputs": [],
   "source": [
    "with open(\"ololo1.txt\", \"w\") as A:\n",
    "    A.write(\"nya\")\n",
    "    "
   ]
  },
  {
   "cell_type": "code",
   "execution_count": null,
   "metadata": {},
   "outputs": [],
   "source": []
  }
 ],
 "metadata": {
  "kernelspec": {
   "display_name": "Python 3",
   "language": "python",
   "name": "python3"
  },
  "language_info": {
   "codemirror_mode": {
    "name": "ipython",
    "version": 3
   },
   "file_extension": ".py",
   "mimetype": "text/x-python",
   "name": "python",
   "nbconvert_exporter": "python",
   "pygments_lexer": "ipython3",
   "version": "3.7.4"
  }
 },
 "nbformat": 4,
 "nbformat_minor": 2
}
